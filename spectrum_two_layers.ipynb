{
 "metadata": {
  "name": "",
  "signature": "sha256:b88a47a1f89a10e1a5840434f66c1ccadb556b4fe54eb378ff1c9149e2521b9b"
 },
 "nbformat": 3,
 "nbformat_minor": 0,
 "worksheets": [
  {
   "cells": [
    {
     "cell_type": "heading",
     "level": 4,
     "metadata": {},
     "source": [
      "Import standard libraries"
     ]
    },
    {
     "cell_type": "code",
     "collapsed": false,
     "input": [
      "import numpy as np\n",
      "import matplotlib.pylab as plt\n",
      "%matplotlib inline"
     ],
     "language": "python",
     "metadata": {},
     "outputs": [],
     "prompt_number": 9
    },
    {
     "cell_type": "heading",
     "level": 4,
     "metadata": {},
     "source": [
      "Import the package MultiNetX"
     ]
    },
    {
     "cell_type": "code",
     "collapsed": false,
     "input": [
      "import multinetx as mx"
     ],
     "language": "python",
     "metadata": {},
     "outputs": [],
     "prompt_number": 2
    },
    {
     "cell_type": "heading",
     "level": 4,
     "metadata": {},
     "source": [
      "Create two Erd\"os- R'enyi networks with N nodes for each layer"
     ]
    },
    {
     "cell_type": "code",
     "collapsed": false,
     "input": [
      "N = 20\n",
      "g1 = mx.barabasi_albert_graph(N,2,seed=231)\n",
      "g2 = mx.barabasi_albert_graph(N,3,seed=231)"
     ],
     "language": "python",
     "metadata": {},
     "outputs": [],
     "prompt_number": 3
    },
    {
     "cell_type": "heading",
     "level": 4,
     "metadata": {},
     "source": [
      "Create an 2Nx2N lil sparse matrix for interconnecting the two layers"
     ]
    },
    {
     "cell_type": "code",
     "collapsed": false,
     "input": [
      "adj_block = mx.lil_matrix(np.zeros((N*2,N*2)))"
     ],
     "language": "python",
     "metadata": {},
     "outputs": [],
     "prompt_number": 4
    },
    {
     "cell_type": "heading",
     "level": 4,
     "metadata": {},
     "source": [
      "Define the type of interconnection between the layers (here we use identity matrices thus connecting one-to-one the nodes between layers)"
     ]
    },
    {
     "cell_type": "code",
     "collapsed": false,
     "input": [
      "adj_block[:N,N:] = np.identity(N)    # L_12\n",
      "adj_block += adj_block.T"
     ],
     "language": "python",
     "metadata": {},
     "outputs": [],
     "prompt_number": 5
    },
    {
     "cell_type": "heading",
     "level": 4,
     "metadata": {},
     "source": [
      "Create an instance of the MultilayerGraph class"
     ]
    },
    {
     "cell_type": "code",
     "collapsed": false,
     "input": [
      "mg = mx.MultilayerGraph(list_of_layers=[g1,g2],\n",
      "                        inter_adjacency_matrix=adj_block)"
     ],
     "language": "python",
     "metadata": {},
     "outputs": [],
     "prompt_number": 6
    },
    {
     "cell_type": "heading",
     "level": 4,
     "metadata": {},
     "source": [
      "Inter-layer weights (intra-layer weight equals one)"
     ]
    },
    {
     "cell_type": "code",
     "collapsed": false,
     "input": [
      "step = 0.01\n",
      "total_steps = 10000\n",
      "eigval_all = np.zeros((total_steps,mg.number_of_nodes()))"
     ],
     "language": "python",
     "metadata": {},
     "outputs": [],
     "prompt_number": 7
    },
    {
     "cell_type": "heading",
     "level": 4,
     "metadata": {},
     "source": [
      "Loop for scanning inter-layer weight with ::step for ::total_steps"
     ]
    },
    {
     "cell_type": "code",
     "collapsed": false,
     "input": [
      "for n in range(total_steps):\n",
      "    inter_diff = step * n\n",
      "    diffusion_constants = mg.set_edges_weights(intra_layer_edges_weight=1.0,\n",
      "                                        inter_layer_edges_weight=inter_diff)\n",
      "    # Laplacian spectrum        \n",
      "    eigval_all[n] = mx.laplacian_spectrum(mg,weight=\"weight\")"
     ],
     "language": "python",
     "metadata": {},
     "outputs": [],
     "prompt_number": 8
    },
    {
     "cell_type": "heading",
     "level": 4,
     "metadata": {},
     "source": [
      "Plot the eigenvalues as a function of inter-layer coupling"
     ]
    },
    {
     "cell_type": "code",
     "collapsed": false,
     "input": [
      "fig = plt.figure()\n",
      "fig.clf()\n",
      "ax = fig.add_subplot(111)\n",
      "ax.tick_params(axis='both',which='major',labelsize=14)\n",
      "ax.set_title('Spectrum of ' + mg.name,fontsize=10)\n",
      "ax.set_xlabel('$D_x$',fontsize=14)\n",
      "ax.set_ylabel('$\\lambda_2$,...,$\\lambda_{'+\\\n",
      "                '{}'.format(N*mg.get_number_of_layers())+\\\n",
      "                '}$',fontsize=14)\n",
      "ax.set_xscale('log')\n",
      "ax.set_yscale('log')\n",
      "ax.set_ylim(bottom=step,top=total_steps)\n",
      "ax.set_xlim(step,step*total_steps)\n",
      "ax.plot([step*n for n in range(total_steps)],eigval_all,linewidth=1)\n",
      "plt.show()"
     ],
     "language": "python",
     "metadata": {},
     "outputs": [
      {
       "metadata": {},
       "output_type": "display_data",
       "png": "[encoded data removed]",
       "text": [
        "<matplotlib.figure.Figure at 0x7fe2d9b5c750>"
       ]
      }
     ],
     "prompt_number": 10
    },
    {
     "cell_type": "code",
     "collapsed": false,
     "input": [
      "mg.get_number_of_layers()"
     ],
     "language": "python",
     "metadata": {},
     "outputs": [
      {
       "metadata": {},
       "output_type": "pyout",
       "prompt_number": 11,
       "text": [
        "2"
       ]
      }
     ],
     "prompt_number": 11
    },
    {
     "cell_type": "code",
     "collapsed": false,
     "input": [],
     "language": "python",
     "metadata": {},
     "outputs": [],
     "prompt_number": 43
    }
   ],
   "metadata": {}
  }
 ]
}